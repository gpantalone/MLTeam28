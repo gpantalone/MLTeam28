{
 "cells": [
  {
   "cell_type": "code",
   "execution_count": 18,
   "metadata": {},
   "outputs": [
    {
     "name": "stdout",
     "output_type": "stream",
     "text": [
      "R2 score: 0.499820088795345\n",
      "Mean Absolute Error: 0.029533084393657833\n",
      "Mean Squared Error: 0.0022945096722314616\n",
      "Root Mean Squared Error: 0.04790104040865356\n"
     ]
    },
    {
     "data": {
      "image/png": "[encoded data removed]",
      "text/plain": [
       "<Figure size 432x288 with 1 Axes>"
      ]
     },
     "metadata": {
      "needs_background": "light"
     },
     "output_type": "display_data"
    }
   ],
   "source": [
    "from sklearn.linear_model import LinearRegression\n",
    "import pandas as pd\n",
    "import numpy as np\n",
    "from numpy import genfromtxt\n",
    "from sklearn import preprocessing\n",
    "from sklearn.model_selection import train_test_split\n",
    "from sklearn import metrics\n",
    "import matplotlib.pyplot as plt\n",
    "from sklearn.neural_network import MLPRegressor\n",
    "from sklearn.preprocessing import scale \n",
    "from sklearn.linear_model import Ridge, RidgeCV, Lasso, LassoCV\n",
    "from sklearn.metrics import mean_squared_error\n",
    "from sklearn.model_selection import GridSearchCV\n",
    "from sklearn.linear_model import Ridge\n",
    "\n",
    "contData = genfromtxt('contFeaturesNormed.csv', delimiter=',')\n",
    "catData = genfromtxt('categoryFeatures.csv', delimiter=',', dtype=str, encoding='UTF-8')\n",
    "labels = genfromtxt('normedLabels.csv', delimiter=',')\n",
    "\n",
    "#remove first entry, is bugged for some reason\n",
    "contData = np.delete(contData, 0,0)\n",
    "catData = np.delete(catData, 0,0)\n",
    "labels = np.delete(labels, 0,0)\n",
    "\n",
    "#need to encode the categorical data\n",
    "#gets the unique values for each column as lists\n",
    "entry0 = np.unique(catData[:,0])\n",
    "entry1 = np.unique(catData[:,1])\n",
    "entry2 = np.unique(catData[:,2])\n",
    "entry3 = np.unique(catData[:,3])\n",
    "entry4 = np.unique(catData[:,4])\n",
    "entry5 = np.unique(catData[:,5])\n",
    "entry6 = np.unique(catData[:,6])\n",
    "entry7 = np.unique(catData[:,7])\n",
    "#set up the encoder, replace each cat column with its respective encoding\n",
    "le = preprocessing.LabelEncoder()\n",
    "#fits the encoder to use string values of the list we want it to\n",
    "le.fit(entry0)\n",
    "#transforms the strings to ints using the fitted values given before\n",
    "catData[:,0] = le.transform(catData[:,0])\n",
    "\n",
    "le = preprocessing.LabelEncoder()\n",
    "le.fit(entry1)\n",
    "catData[:,1] = le.transform(catData[:,1])\n",
    "\n",
    "le = preprocessing.LabelEncoder()\n",
    "le.fit(entry2)\n",
    "catData[:,2] = le.transform(catData[:,2])\n",
    "\n",
    "le = preprocessing.LabelEncoder()\n",
    "le.fit(entry3)\n",
    "catData[:,3] = le.transform(catData[:,3])\n",
    "\n",
    "le = preprocessing.LabelEncoder()\n",
    "le.fit(entry4)\n",
    "catData[:,4] = le.transform(catData[:,4])\n",
    "\n",
    "le = preprocessing.LabelEncoder()\n",
    "le.fit(entry5)\n",
    "catData[:,5] = le.transform(catData[:,5])\n",
    "\n",
    "le = preprocessing.LabelEncoder()\n",
    "le.fit(entry6)\n",
    "catData[:,6] = le.transform(catData[:,6])\n",
    "le = preprocessing.LabelEncoder()\n",
    "le.fit(entry7)\n",
    "catData[:,7] = le.transform(catData[:,7])\n",
    "#normalize these new values, and convert them to floats because they are number strings\n",
    "catData = catData.astype('float64')\n",
    "catData = catData / catData.max(axis=0)\n",
    "\n",
    "#combine the features back together, order is:  budget  company  cutcountry  director    cutgenre    cutrating     runtime    star     writer   month   year\n",
    "\n",
    "data = np.append(contData[:,0].reshape(contData[:,0].shape[0],1),catData[:,[0,2]],1)\n",
    "data = np.append(data, contData[:,1].reshape(contData[:,0].shape[0],1),1)\n",
    "data = np.append(data, catData[:,[5,6,7]],1)\n",
    "data = np.append(data, contData[:,2].reshape(contData[:,0].shape[0],1),1)\n",
    "\n",
    "X_train, X_test, y_train, y_test = train_test_split(data, labels, test_size=0.3)\n",
    "\n",
    "reg = LinearRegression()\n",
    "\n",
    "#reg = MLPRegressor(activation='relu', solver='adam', hidden_layer_sizes=(64,64), learning_rate='adaptive', learning_rate_init=.001)\n",
    "\n",
    "reg.fit(X_train,y_train)\n",
    "y_pred = reg.predict(X_test)\n",
    "\n",
    "print('R2 score:', reg.score(X_test, y_test))\n",
    "\n",
    "print('Mean Absolute Error:', metrics.mean_absolute_error(y_test, y_pred))\n",
    "print('Mean Squared Error:', metrics.mean_squared_error(y_test, y_pred))\n",
    "print('Root Mean Squared Error:', np.sqrt(metrics.mean_squared_error(y_test, y_pred)))\n",
    "\n",
    "plt.scatter(y_test, y_pred, color='blue')\n",
    "x=np.linspace(-0.1,1,1000)\n",
    "plt.plot(x, x, color='red')\n",
    "plt.xlabel(\"Actual Value\")\n",
    "plt.ylabel(\"Predicted Value\")\n",
    "plt.show()"
   ]
  },
  {
   "cell_type": "code",
   "execution_count": 19,
   "metadata": {},
   "outputs": [
    {
     "data": {
      "text/plain": [
       "(100, 8)"
      ]
     },
     "execution_count": 19,
     "metadata": {},
     "output_type": "execute_result"
    }
   ],
   "source": [
    "#Ridge Regression\n",
    "\n",
    "X = data\n",
    "y = labels\n",
    "\n",
    "alphas = 10**np.linspace(10,-2,100)*0.5\n",
    "alphas\n",
    "ridge = Ridge(normalize = True)\n",
    "coefs = []\n",
    "\n",
    "for a in alphas:\n",
    "    ridge.set_params(alpha = a)\n",
    "    ridge.fit(X, y)\n",
    "    coefs.append(ridge.coef_)\n",
    "    \n",
    "np.shape(coefs)"
   ]
  },
  {
   "cell_type": "code",
   "execution_count": 51,
   "metadata": {},
   "outputs": [],
   "source": [
    "#ax = plt.gca()\n",
    "#ax.plot(alphas, coefs)\n",
    "#ax.set_xscale('log')\n",
    "#plt.axis('tight')\n",
    "#plt.xlabel('alpha')\n",
    "#plt.ylabel('weights')"
   ]
  },
  {
   "cell_type": "code",
   "execution_count": 21,
   "metadata": {},
   "outputs": [],
   "source": [
    "# Split data\n",
    "X_train2, X_test2 , y_train2, y_test2 = train_test_split(X, y, test_size=0.5, random_state=1)"
   ]
  },
  {
   "cell_type": "code",
   "execution_count": 36,
   "metadata": {},
   "outputs": [
    {
     "name": "stdout",
     "output_type": "stream",
     "text": [
      "R2 score: 0.4720856657853941\n",
      "Mean Absolute Error: 0.04139047986923389\n",
      "Mean Squared Error: 0.004227792247231099\n",
      "Root Mean Squared Error: 0.0650214752772582\n"
     ]
    }
   ],
   "source": [
    "#Fit a reg onto training data, predict test data, calc mse\n",
    "ridge2 = Ridge(alpha = 4, normalize = True)\n",
    "ridge2.fit(X_train2, y_train2)             \n",
    "pred2 = ridge2.predict(X_test2)           \n",
    "\n",
    "print('R2 score:', reg.score(X_test2, y_test2))\n",
    "print('Mean Absolute Error:', metrics.mean_absolute_error(y_test2, pred2))\n",
    "print('Mean Squared Error:', metrics.mean_squared_error(y_test2, pred2))\n",
    "print('Root Mean Squared Error:', np.sqrt(metrics.mean_squared_error(y_test2, pred2)))     "
   ]
  },
  {
   "cell_type": "code",
   "execution_count": 40,
   "metadata": {},
   "outputs": [
    {
     "name": "stdout",
     "output_type": "stream",
     "text": [
      "R2 score: 0.4720856657853941\n",
      "Mean Absolute Error: 0.04640082564760353\n",
      "Mean Squared Error: 0.005160501239123089\n",
      "Root Mean Squared Error: 0.07183662881234816\n"
     ]
    }
   ],
   "source": [
    "#Same as above\n",
    "ridge3 = Ridge(alpha = 10**10, normalize = True)\n",
    "ridge3.fit(X_train2, y_train2)             \n",
    "pred3 = ridge3.predict(X_test2)           \n",
    "\n",
    "print('R2 score:', reg.score(X_test2, y_test2))\n",
    "print('Mean Absolute Error:', metrics.mean_absolute_error(y_test2, pred3))\n",
    "print('Mean Squared Error:', metrics.mean_squared_error(y_test2, pred3))\n",
    "print('Root Mean Squared Error:', np.sqrt(metrics.mean_squared_error(y_test2, pred3)))  "
   ]
  },
  {
   "cell_type": "code",
   "execution_count": 39,
   "metadata": {},
   "outputs": [
    {
     "name": "stdout",
     "output_type": "stream",
     "text": [
      "R2 score: 0.4720856657853941\n",
      "Mean Absolute Error: 0.031673135164151975\n",
      "Mean Squared Error: 0.0027321309235541474\n",
      "Root Mean Squared Error: 0.05226978977912717\n"
     ]
    }
   ],
   "source": [
    "ridge2 = Ridge(alpha = 0, normalize = True)\n",
    "ridge2.fit(X_train2, y_train2)             \n",
    "pred = ridge2.predict(X_test2)            \n",
    "\n",
    "print('R2 score:', reg.score(X_test2, y_test2))\n",
    "print('Mean Absolute Error:', metrics.mean_absolute_error(y_test2, pred))\n",
    "print('Mean Squared Error:', metrics.mean_squared_error(y_test2, pred))\n",
    "print('Root Mean Squared Error:', np.sqrt(metrics.mean_squared_error(y_test2, pred)))  "
   ]
  },
  {
   "cell_type": "code",
   "execution_count": 45,
   "metadata": {},
   "outputs": [
    {
     "name": "stdout",
     "output_type": "stream",
     "text": [
      "Mean Absolute Error: 0.03169220970645463\n",
      "Mean Squared Error: 0.002733690247853547\n",
      "Root Mean Squared Error: 0.052284703765571316\n"
     ]
    }
   ],
   "source": [
    "ridgecv = RidgeCV(alphas = alphas, scoring = 'neg_mean_squared_error', normalize = True)\n",
    "ridgecv.fit(X_train2, y_train2)\n",
    "ridgecv.alpha_\n",
    "ridge4 = Ridge(alpha = ridgecv.alpha_, normalize = True)\n",
    "ridge4.fit(X_train2, y_train2)\n",
    "\n",
    "#print('R2 score:', reg.score(ridge4.predict(X_test2), y_test2))\n",
    "print('Mean Absolute Error:', metrics.mean_absolute_error(y_test2, ridge4.predict(X_test2)))\n",
    "print('Mean Squared Error:', metrics.mean_squared_error(y_test2, ridge4.predict(X_test2)))\n",
    "print('Root Mean Squared Error:', np.sqrt(metrics.mean_squared_error(y_test2, ridge4.predict(X_test2))))  "
   ]
  },
  {
   "cell_type": "code",
   "execution_count": 49,
   "metadata": {},
   "outputs": [],
   "source": [
    "#LASSO\n",
    "\n",
    "lasso = Lasso(max_iter = 10000, normalize = True)\n",
    "coefs = []\n",
    "\n",
    "for a in alphas:\n",
    "    lasso.set_params(alpha=a)\n",
    "    lasso.fit(scale(X_train2), y_train2)\n",
    "    coefs.append(lasso.coef_)\n",
    "    \n",
    "#ax = plt.gca()\n",
    "#ax.plot(alphas*2, coefs)\n",
    "#ax.set_xscale('log')\n",
    "#plt.axis('tight')\n",
    "#plt.xlabel('alpha')\n",
    "#plt.ylabel('weights')"
   ]
  },
  {
   "cell_type": "code",
   "execution_count": 50,
   "metadata": {},
   "outputs": [
    {
     "name": "stdout",
     "output_type": "stream",
     "text": [
      "Mean Absolute Error: 0.03165005462764398\n",
      "Mean Squared Error: 0.0027331523120945325\n",
      "Root Mean Squared Error: 0.05227955921863279\n"
     ]
    }
   ],
   "source": [
    "lassocv = LassoCV(alphas = None, cv = 10, max_iter = 100000, normalize = True)\n",
    "lassocv.fit(X_train2, y_train2)\n",
    "\n",
    "lasso.set_params(alpha=lassocv.alpha_)\n",
    "lasso.fit(X_train2, y_train2)\n",
    "mean_squared_error(y_test2, lasso.predict(X_test2))\n",
    "\n",
    "print('Mean Absolute Error:', metrics.mean_absolute_error(y_test2, lasso.predict(X_test2)))\n",
    "print('Mean Squared Error:', metrics.mean_squared_error(y_test2, lasso.predict(X_test2)))\n",
    "print('Root Mean Squared Error:', np.sqrt(metrics.mean_squared_error(y_test2, lasso.predict(X_test2))))  \n",
    "\n"
   ]
  },
  {
   "cell_type": "code",
   "execution_count": null,
   "metadata": {},
   "outputs": [],
   "source": []
  }
 ],
 "metadata": {
  "kernelspec": {
   "display_name": "Python 3",
   "language": "python",
   "name": "python3"
  },
  "language_info": {
   "codemirror_mode": {
    "name": "ipython",
    "version": 3
   },
   "file_extension": ".py",
   "mimetype": "text/x-python",
   "name": "python",
   "nbconvert_exporter": "python",
   "pygments_lexer": "ipython3",
   "version": "3.7.3"
  }
 },
 "nbformat": 4,
 "nbformat_minor": 4
}
